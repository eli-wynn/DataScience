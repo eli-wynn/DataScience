{
  "cells": [
    {
      "cell_type": "markdown",
      "metadata": {
        "id": "M00I0saEkrfs"
      },
      "source": [
        "**CSI 4142 Data Science** <br/>\n",
        "*Assignment 1: Dataset Insights*\n",
        "\n",
        "# Identification\n",
        "\n",
        "Name: Eli Wynn<br/>\n",
        "Student Number: 300248135\n",
        "\n",
        "Name: Jack Snelgrove<br/>\n",
        "Student Number: 300247435\n",
        "\n",
        "\n",
        "Our datasets have been uploaded from the public repository:\n",
        "\n",
        "- [github.com/eli-wynn/Datasets](https://github.com/eli-wynn/Datasets)\n",
        "\n",
        "# Introduction\n",
        "\n",
        "The goal of this report is to perform data analysis on a heart attack database and student placement dataset. The audience would be the general public wanting to learn about factors that could lead to a heart attack and students/educators wanting to examine student results after graduation respectively.\n",
        "\n",
        "Imports:"
      ]
    },
    {
      "cell_type": "code",
      "execution_count": 34,
      "metadata": {
        "id": "LnC58VvrlUrS"
      },
      "outputs": [],
      "source": [
        "import numpy as np\n",
        "import matplotlib.pyplot as plt\n",
        "import pandas as pd\n",
        "import seaborn as sns"
      ]
    },
    {
      "cell_type": "markdown",
      "metadata": {
        "id": "ClkIXfDmmKm0"
      },
      "source": [
        "Importing Datasets"
      ]
    },
    {
      "cell_type": "code",
      "execution_count": 35,
      "metadata": {
        "colab": {
          "base_uri": "https://localhost:8080/"
        },
        "id": "kRAQ1A_DmtOt",
        "outputId": "f911c681-6b21-4235-c91a-8dc7a834ea60"
      },
      "outputs": [],
      "source": [
        "heart  = \"https://raw.githubusercontent.com/eli-wynn/Datasets/refs/heads/main/heart.csv\"\n",
        "placement = \"https://raw.githubusercontent.com/eli-wynn/Datasets/refs/heads/main/placementdata.csv\"\n",
        "heartData = pd.read_csv(heart)\n",
        "placementData = pd.read_csv(placement)\n",
        "placementDataML = placementData.copy()"
      ]
    },
    {
      "cell_type": "markdown",
      "metadata": {},
      "source": [
        "# Dataset Descriptions\n",
        "## [Placement Data](https://www.kaggle.com/datasets/ruchikakumbhar/placement-prediction-dataset/data)\n",
        "Author: RK <br>\n",
        "Purpose: This dataset contains information about the students academic and training and placement status<br>\n",
        "Shape: Columns: 12, Rows: 10000<br>\n",
        "|Features|Type|Description|\n",
        "|--------|----|-----------|\n",
        "|Student ID|Numerical|Primary key to identify a student|\n",
        "|CGPA|Numerical|Culmitive Grade Point Average of a student|\n",
        "|Internships| Numerical| Number of internships a student has completed|\n",
        "|Projects| Numerical| Number of project a student has completed|\n",
        "|Workshops/Certifications| Numerical| Number of Certifications or Workshops that a student has completed|\n",
        "|AptitudeTestScore| Numerical| Score on a test that rates a students ability in the workforce|\n",
        "|SoftSkillsRating|Numerical|A score to determine the level of a students soft skills|\n",
        "|ExtracurricularActivities| Categorical| 'Yes' or 'No'based on whether a student has participated in extracurricular activities|\n",
        "|PlacementTraining| Categorical|'Yes' or 'No' based on whether a student has completed placement training|\n",
        "|SSC_Marks|Numerical|Secondary School Cerificate grades|\n",
        "|HSC_Marks|Numerical|Higher Secondary Cerificate grades|\n",
        "|PlacementStatus|Categorical| 'Placed' or 'NotPlaced' based on whether a student received a placement or not|\n",
        "\n",
        "## [Heart Data](https://www.kaggle.com/datasets/fedesoriano/heart-failure-prediction)\n",
        "Author: fedesoriano <br>\n",
        "Purpose: This dataset contains data regarding heart function in order to predict heart failure<br>\n",
        "Shape: Columns: 12, Rows: 918<br>\n",
        "| Features            | Type      | Description                                                                                       |\n",
        "|-----------------|---------------|---------------------------------------------------------------------------------------------------|\n",
        "| Age             | Numerical     | Age of the patient [years]                                                                         |\n",
        "| Sex             | Categorical   | Sex of the patient [M: Male, F: Female]                                                            |\n",
        "| ChestPainType   | Categorical   | Chest pain type [TA: Typical Angina, ATA: Atypical Angina, NAP: Non-Anginal Pain, ASY: Asymptomatic]|\n",
        "| RestingBP       | Numerical     | Resting blood pressure [mm Hg]                                                                     |\n",
        "| Cholesterol     | Numerical     | Serum cholesterol [mm/dl]                                                                          |\n",
        "| FastingBS       | Categorical   | Fasting blood sugar [1: if FastingBS > 120 mg/dl, 0: otherwise]                                    |\n",
        "| RestingECG      | Categorical   | Resting electrocardiogram results [Normal: Normal, ST: having ST-T wave abnormality, LVH: showing probable or definite left ventricular hypertrophy]|\n",
        "| MaxHR           | Numerical     | Maximum heart rate achieved [Numeric value between 60 and 202]                                     |\n",
        "| ExerciseAngina  | Categorical   | Exercise-induced angina [Y: Yes, N: No]                                                           |\n",
        "| Oldpeak         | Numerical     | Oldpeak = ST [Numeric value measured in depression]                                                |\n",
        "| ST_Slope        | Categorical   | The slope of the peak exercise ST segment [Up: upsloping, Flat: flat, Down: downsloping]          |\n",
        "| HeartDisease    | Categorical   | Presence of heart disease [1: Yes, 0: No]                                                         |\n"
      ]
    },
    {
      "cell_type": "markdown",
      "metadata": {},
      "source": [
        "# Heart Failure Prediction Insights\n",
        "\n",
        "All the proof of the insights is present in the code and subsequent table directly below the insight\n",
        "\n",
        "1. The risk of heart problems increases dramatically after age 40 and drops off after 60. It is interesting that there is a drop off with age. Is that due to less older people being included in the data? or less older people surviving with a heart condition?"
      ]
    },
    {
      "cell_type": "code",
      "execution_count": 36,
      "metadata": {},
      "outputs": [],
      "source": [
        "plt.hist(heartData['Age'], bins=10, color='skyblue', edgecolor='black')\n",
        "plt.title('Age Distribution')\n",
        "plt.xlabel('Ages')\n",
        "plt.ylabel('Frequency')\n",
        "plt.show()"
      ]
    },
    {
      "cell_type": "markdown",
      "metadata": {},
      "source": [
        "2. Approximately 56% of individuals included in the data have heart disease"
      ]
    },
    {
      "cell_type": "code",
      "execution_count": null,
      "metadata": {},
      "outputs": [],
      "source": [
        "#code for a countplot from case study in class\n",
        "sns.countplot(x=\"HeartDisease\", hue=\"HeartDisease\", data=heartData)\n",
        "plt.title(\"Individuals With Heart Disease\")\n",
        "plt.xlabel(\"Heart Disease (0 = Healthy, 1 = Diseased)\")\n",
        "plt.ylabel(\"Count\")\n",
        "plt.show()"
      ]
    },
    {
      "cell_type": "markdown",
      "metadata": {},
      "source": [
        "3. Approximately 20% of people have ATA chest pain, 23% have NAP chest pain, 5% have TA chest pain and 52% have ASY chest pain\n",
        "- TA -> Typical Angina\n",
        "- ASY -> Asymptomatic\n",
        "- ATA -> Atypical Angina\n",
        "- NAP -> Non-Anginal Pain"
      ]
    },
    {
      "cell_type": "code",
      "execution_count": null,
      "metadata": {},
      "outputs": [],
      "source": [
        "#code for a countplot from case study in class\n",
        "sns.countplot(x=\"ChestPainType\", hue=\"ChestPainType\", data=heartData)\n",
        "plt.title(\"Individuals Sorted By Chest Pain Type\")\n",
        "plt.xlabel(\"Chest Pain Type (0 = Healthy, 1 = Diseased)\")\n",
        "plt.ylabel(\"Count\")\n",
        "plt.show()"
      ]
    },
    {
      "cell_type": "markdown",
      "metadata": {},
      "source": [
        "4. Approximately 34% of participants had low risk cholestoral, ~27% had medium risk, ~28% had high risk and ~11% had extreme risk\n",
        "\n",
        "The categories were made based upon information from this website: https://medlineplus.gov/cholesterollevelswhatyouneedtoknow.html. The kaggle dataset explains that the cholestorol levels, are the total (serum) cholestorol levels and says it is measured in mm/dl. I made the assumption that mm/dl is a typo and the correct reading is in mg/dl since that is the standard measurement and the only alternative I found is mmol/l."
      ]
    },
    {
      "cell_type": "code",
      "execution_count": null,
      "metadata": {},
      "outputs": [],
      "source": [
        "#function numbers for risk levels are sourced from the link above \n",
        "def categorize_cholesterol(chol):\n",
        "    if chol < 200:\n",
        "        return \"Low Risk\"\n",
        "    elif 200 <= chol < 240:\n",
        "        return \"Medium Risk\"\n",
        "    elif 240 <= chol < 300:\n",
        "        return \"High Risk\"\n",
        "    else:\n",
        "        return \"Extreme Risk\"\n",
        "\n",
        "heartData[\"Cholesterol_Risk\"] = heartData[\"Cholesterol\"].apply(categorize_cholesterol)\n",
        "\n",
        "sns.countplot(x=\"Cholesterol_Risk\", data=heartData, order=[\"Low Risk\", \"Medium Risk\", \"High Risk\", \"Extreme Risk\"])\n",
        "plt.title(\"Cholesterol Risk Categories\")\n",
        "plt.xlabel(\"Risk Category\")\n",
        "plt.ylabel(\"Count\")\n",
        "plt.show()"
      ]
    },
    {
      "cell_type": "markdown",
      "metadata": {},
      "source": [
        "5. There is a strong correlation between exercise induced angina and heart disease\n"
      ]
    },
    {
      "cell_type": "code",
      "execution_count": null,
      "metadata": {},
      "outputs": [],
      "source": [
        "ax = sns.countplot(x=\"HeartDisease\", data=heartData, hue=\"ExerciseAngina\")\n",
        "total = len(heartData)\n",
        "\n",
        "for p in ax.patches:\n",
        "    height = p.get_height()\n",
        "    # Position the text below the bar\n",
        "    ax.annotate(height, \n",
        "                (p.get_x() + p.get_width() / 2, 5),  # Position text below\n",
        "                ha=\"center\", va=\"center\", fontsize=10, color=\"black\")\n",
        "\n",
        "plt.title(\"Exercise Angina vs Heart Disease\")\n",
        "plt.xlabel(\"Heart Disease (0 = N, 1 = Y)\")\n",
        "plt.ylabel(\"Count\")\n",
        "plt.show()"
      ]
    },
    {
      "cell_type": "markdown",
      "metadata": {},
      "source": [
        "510 people don't have heart disease (355/510)*100 ~= 70% of people without heart disease don't have exercise induced angina\n",
        "508 people do have heart disease (316/508)*100 ~= 62% of people with heart disease also have exercise induced angina"
      ]
    },
    {
      "cell_type": "markdown",
      "metadata": {},
      "source": [
        "6. approximately 61% of people with extreme or low cholestorol are asymptomatic in terms of chest pain. People with medium or high cholestorol levels are more likely to experience chest pain at approximately 48.5%\n"
      ]
    },
    {
      "cell_type": "code",
      "execution_count": null,
      "metadata": {},
      "outputs": [],
      "source": [
        "sns.countplot(x=\"Cholesterol_Risk\", data=heartData, order=[\"Low Risk\", \"Medium Risk\", \"High Risk\", \"Extreme Risk\"], hue=\"ChestPainType\")\n",
        "plt.title(\"Cholesterol Risk Categories\")\n",
        "plt.xlabel(\"Risk Category\")\n",
        "plt.ylabel(\"Count\")\n",
        "plt.show()\n",
        "\n",
        "percentage_data = (\n",
        "    heartData.groupby(\"Cholesterol_Risk\")[\"ChestPainType\"]\n",
        "    .value_counts(normalize=True)\n",
        "    .mul(100)\n",
        "    .rename(\"Percentage\")\n",
        "    .reset_index()\n",
        ")\n",
        "\n",
        "print(\"Cholestorol Risk: \")\n",
        "print(percentage_data)"
      ]
    },
    {
      "cell_type": "markdown",
      "metadata": {},
      "source": [
        "7. There is a small correlation between Age and increased cholestorol"
      ]
    },
    {
      "cell_type": "code",
      "execution_count": null,
      "metadata": {},
      "outputs": [],
      "source": [
        "tempData = heartData[heartData['Cholesterol']!=0]\n",
        "sns.scatterplot(x=\"Age\", y=\"Cholesterol\", data=tempData)\n",
        "\n",
        "# need to remove 0 cholestorol values - impossible to have zero cholestorol it must not have been measured\n",
        "plt.title(\"Correlation Between Age and Cholesterol Levels\")\n",
        "plt.xlabel(\"Age\")\n",
        "plt.ylabel(\"Cholesterol Levels\")\n",
        "plt.show()"
      ]
    },
    {
      "cell_type": "markdown",
      "metadata": {},
      "source": [
        "Looking at the above plot there is a slight trend of increased cholestorol as age increases but it is not significant and there are many outliers. "
      ]
    },
    {
      "cell_type": "markdown",
      "metadata": {},
      "source": [
        "8. There is no correlation between RestingBP and MaxHR"
      ]
    },
    {
      "cell_type": "code",
      "execution_count": null,
      "metadata": {},
      "outputs": [],
      "source": [
        "sns.scatterplot(x=\"RestingBP\", y=\"MaxHR\", data=heartData)\n",
        "\n",
        "plt.title(\"Correlation Between Resting Blood Pressure and Max Heart Rate\")\n",
        "plt.xlabel(\"RestingBP\")\n",
        "plt.ylabel(\"MaxHR\")\n",
        "plt.show()"
      ]
    },
    {
      "cell_type": "markdown",
      "metadata": {},
      "source": [
        "9. Having High or Extremely High cholestorol levels makes you more at risk of heart disease. Interestingly the large majority of people with low risk cholestorol have heart disease. \n",
        "\n",
        "The high heart disease with low risk could be explained by cholestorol removing surgeries like or a lot of the high cholestorol people with heart disease passing away and as such not being present in the data"
      ]
    },
    {
      "cell_type": "code",
      "execution_count": null,
      "metadata": {},
      "outputs": [],
      "source": [
        "sns.countplot(x=\"Cholesterol_Risk\", data=heartData, order=[\"Low Risk\", \"Medium Risk\", \"High Risk\", \"Extreme Risk\"], hue=\"HeartDisease\")\n",
        "plt.title(\"Cholesterol Risk vs Heart Disease\")\n",
        "plt.xlabel(\"Risk Category\")\n",
        "plt.ylabel(\"Count\")\n",
        "plt.show()\n",
        "\n",
        "percentage_data = (\n",
        "    heartData.groupby(\"Cholesterol_Risk\")[\"HeartDisease\"]\n",
        "    .value_counts(normalize=True)\n",
        "    .mul(100)\n",
        "    .rename(\"Percentage\")\n",
        "    .reset_index()\n",
        ")\n",
        "\n",
        "print(\"Cholestorol Risk: \")\n",
        "print(percentage_data)"
      ]
    },
    {
      "cell_type": "markdown",
      "metadata": {},
      "source": [
        "10. The various distributions highlight how numerous factors can be associated with heart disease and not one thing is entirely responsible or indicative of heart disease"
      ]
    },
    {
      "cell_type": "code",
      "execution_count": null,
      "metadata": {},
      "outputs": [],
      "source": [
        "numerical_columns = [\"Age\", \"RestingBP\", \"Cholesterol\", \"MaxHR\", \"Oldpeak\"]\n",
        "\n",
        "for col in numerical_columns:\n",
        "    plt.figure(figsize=(10, 6))\n",
        "    sns.boxplot(x=\"HeartDisease\", y=col, data=heartData)\n",
        "    plt.title(f\"Distribution of {col} by Heart Disease\")\n",
        "    plt.xlabel(\"Heart Disease\")\n",
        "    plt.ylabel(col)\n",
        "    plt.show()"
      ]
    },
    {
      "cell_type": "markdown",
      "metadata": {},
      "source": [
        "## Placement Insights\n",
        "\n",
        "Insights are structures as a question which is then answered by a visualization. The visualization is then followed by my analysis of that visualization\n",
        "\n",
        "1. How many students got Placed vs Not placed?"
      ]
    },
    {
      "cell_type": "code",
      "execution_count": 37,
      "metadata": {},
      "outputs": [],
      "source": [
        "#Univariate: Categorical - r2\n",
        "\n",
        "#Define the figure size\n",
        "plt.figure(figsize=(8, 6))\n",
        "\n",
        "#Taken from lecture slides\n",
        "sns.countplot(x='PlacementStatus', data= placementData)\n",
        "\n",
        "# Add labels and title\n",
        "plt.title('Count of PlacementStatus', fontsize=16)\n",
        "plt.xlabel('Placement Status', fontsize=14)\n",
        "plt.ylabel('Count', fontsize=14)\n",
        "\n",
        "# Display the plot\n",
        "plt.show()\n"
      ]
    },
    {
      "cell_type": "markdown",
      "metadata": {},
      "source": [
        "Insight #1: Based on the chart above, ~58% of the students were placed in internships <br><br>\n",
        "2. Did the number of completed internships effect the number of students who got placed? "
      ]
    },
    {
      "cell_type": "code",
      "execution_count": 40,
      "metadata": {},
      "outputs": [],
      "source": [
        "# Bivarite: Categorical / Numerical \n",
        "\n",
        "#Define figure size \n",
        "plt.figure(figsize=(10, 6))\n",
        "\n",
        "#Derived from code provided in lecture slides\n",
        "sns.countplot(x='PlacementStatus', hue = 'Internships',data=placementData)\n",
        "\n",
        "# Adding Title\n",
        "plt.title('Placement Status by Number of Internships', fontsize=16)\n",
        "plt.ylabel('Number of Students', fontsize=14)\n",
        "plt.xlabel('Placement Status', fontsize=14)\n",
        "\n",
        "# Display the plot\n",
        "plt.show()"
      ]
    },
    {
      "cell_type": "markdown",
      "metadata": {},
      "source": [
        "Insight #2: Based on the graph above, the majority of students who had 2 internships completed were able to get Placed. For Students who have only completed one or no internships had a higher chance of not placing than being placed. \n",
        "\n",
        "3. Did students who got placed have better CGPAs than those who didnt?\n"
      ]
    },
    {
      "cell_type": "code",
      "execution_count": 41,
      "metadata": {},
      "outputs": [],
      "source": [
        "#Bivariate: Numerical / Categorical - r7\n",
        "\n",
        "# Define figure size\n",
        "plt.figure(figsize=(8, 6))\n",
        "\n",
        "# Plot stacked histogram \n",
        "sns.histplot(data= placementData, x='CGPA',hue='PlacementStatus', multiple='stack')\n",
        "\n",
        "# Labels and title\n",
        "plt.title('CGPA Distribution: Placed vs Not Placed', fontsize=16)\n",
        "plt.xlabel('CGPA', fontsize=14)\n",
        "plt.ylabel('Number of Students', fontsize=14)\n",
        "\n",
        "# Show plot\n",
        "plt.show()"
      ]
    },
    {
      "cell_type": "markdown",
      "metadata": {},
      "source": [
        "Insight #3: It shows in the graph above that in the majority of cases students who got placed typically had higher CGPAs that those who did not. However, the graph also shows that some students who had a high CGPAs did not place and some students with low CGPAs were able to find placements. \n",
        "\n",
        "4. How are the student soft skills"
      ]
    },
    {
      "cell_type": "code",
      "execution_count": 42,
      "metadata": {},
      "outputs": [],
      "source": [
        "# Univariate: Numerical - r1\n",
        "\n",
        "# Define figure size\n",
        "plt.figure(figsize=(8, 6))\n",
        "\n",
        "# Plot histogram for Soft Skills Rating \n",
        "sns.histplot(x='SoftSkillsRating', data = placementData, bins=10) #derived from lecture slides\n",
        "\n",
        "# Labels and title\n",
        "plt.title('Distribution of Soft Skills Ratings', fontsize=16)\n",
        "plt.xlabel('Soft Skills Rating', fontsize=14)\n",
        "plt.ylabel('Number of Students', fontsize=14)\n",
        "\n",
        "# Show plot\n",
        "plt.show()\n"
      ]
    },
    {
      "cell_type": "markdown",
      "metadata": {},
      "source": [
        "Insight #4: The graph above is left skewed showing us that most of the students have high soft skills rating. \n",
        "\n",
        "5. How well did students do on their Aptitude tests?"
      ]
    },
    {
      "cell_type": "code",
      "execution_count": 43,
      "metadata": {},
      "outputs": [],
      "source": [
        "# Univariate: Grouped numerical  \n",
        "\n",
        "#Generated using ChatGPT - \n",
        "#Prompt:  I have a column with test scores 0-100. I want to create 4 bins: 0-25, 26-50, 51-75, 76-100 and fill them with the test scores. I then want to make a countplot for these bins\n",
        "bins = [0, 25 , 50, 75, 100]  # Define bin edges\n",
        "labels = ['0-25', '21-50', '51-75', '76-100']  # Define labels for bins\n",
        "placementData['AptitudeTestScoreBins'] = pd.cut(placementData['AptitudeTestScore'], bins=bins, labels=labels, include_lowest=True)\n",
        "\n",
        "\n",
        "# Define figure size\n",
        "plt.figure(figsize=(8, 6))\n",
        "\n",
        "sns.countplot(data = placementData, x='AptitudeTestScoreBins')\n",
        "\n",
        "\n",
        "# Add labels and title\n",
        "plt.title('Grouped Aptitude Test Score Distribution', fontsize=16)\n",
        "plt.xlabel('Aptitude Test Score Category', fontsize=14)\n",
        "plt.ylabel('Number of Students', fontsize=14)\n",
        "\n",
        "# Show plot\n",
        "plt.show()"
      ]
    },
    {
      "cell_type": "markdown",
      "metadata": {},
      "source": [
        "Insight #5: Based on the graph above, we can see that all students passed their Aptitude test with the majority of students scoring above a 75%. We grouped scores in increments of 25% so that we can see a more simplified overview of the grades. I chose these intervals so we could see whether students got >50% (passed). \n",
        "\n",
        "6. Does a student having placement training have an effect on a student getting placed?"
      ]
    },
    {
      "cell_type": "code",
      "execution_count": 44,
      "metadata": {},
      "outputs": [],
      "source": [
        "# Bivariate: Categorical / Categorical - r4\n",
        "\n",
        "#Derived from lecture slides\n",
        "sns.countplot(data=placementData, x= 'PlacementStatus', hue='PlacementTraining')\n",
        "\n",
        "# Labels and title\n",
        "plt.title('Effect of Training on Placement Status', fontsize=16)\n",
        "plt.xlabel('Placement Training', fontsize=14)\n",
        "plt.ylabel('Number of Students', fontsize=14)\n",
        "\n",
        "# Show plot\n",
        "plt.show()"
      ]
    },
    {
      "cell_type": "markdown",
      "metadata": {},
      "source": [
        "Insight #6: Based on the graph above, there are very few students who got placed without being trained. However, there is a significant amount of students that got trained but still did not get placed. \n",
        "\n",
        "7. Is there a correlation between a students SSC marks and their HSC marks? "
      ]
    },
    {
      "cell_type": "code",
      "execution_count": 45,
      "metadata": {},
      "outputs": [],
      "source": [
        "# Bivariate: Numerical / Numerical - r6 \n",
        "\n",
        "# Define figure size\n",
        "plt.figure(figsize=(8, 6))\n",
        "\n",
        "# Create scatter plot\n",
        "sns.scatterplot(data=placementData, x='SSC_Marks', y='HSC_Marks')\n",
        "\n",
        "# Add labels and title\n",
        "plt.title('Scatter Plot: SSC Marks vs. HSC Marks', fontsize=16)\n",
        "plt.xlabel('SSC Marks', fontsize=14)\n",
        "plt.ylabel('HSC Marks', fontsize=14)\n",
        "\n",
        "# Show plot\n",
        "plt.show()"
      ]
    },
    {
      "cell_type": "markdown",
      "metadata": {},
      "source": [
        "Insight #7: Based on the scatter-plot above, there does not seem to be a correlation between a students HSC Marks and their SSC Marks \n",
        "\n",
        "8. Did the number of completed projects effect students placement status?"
      ]
    },
    {
      "cell_type": "code",
      "execution_count": 46,
      "metadata": {},
      "outputs": [],
      "source": [
        "# Bivarite: Categorical / Numerical \n",
        "\n",
        "#Define figure size \n",
        "plt.figure(figsize=(10, 6))\n",
        "\n",
        "#Derived from code provided in lecture slides\n",
        "sns.countplot(x='PlacementStatus', hue = 'Projects',data=placementData)\n",
        "\n",
        "# Adding labels and title\n",
        "plt.title('Placement Status by Number of Projects', fontsize=16)\n",
        "plt.ylabel('Number of Students', fontsize=14)\n",
        "plt.xlabel('Placement Status', fontsize=14)\n",
        "\n",
        "# Display the plot\n",
        "plt.show()"
      ]
    },
    {
      "cell_type": "markdown",
      "metadata": {},
      "source": [
        "Insight #8: Based on the graph above, the majority of students who had done one or two projects did not get placed. Students who completed 3 projects were likely to get placed. Very few students had completed 0 projects. \n",
        "\n",
        "9. Would I be placed? "
      ]
    },
    {
      "cell_type": "code",
      "execution_count": 47,
      "metadata": {},
      "outputs": [],
      "source": [
        "\n",
        "# ML specific imports\n",
        "from sklearn.model_selection import train_test_split\n",
        "from sklearn.preprocessing import StandardScaler, LabelEncoder\n",
        "from sklearn.linear_model import LogisticRegression\n",
        "from sklearn.metrics import accuracy_score, confusion_matrix, classification_report\n",
        "\n",
        "\n",
        "# Convert boolean categorical data to binary\n",
        "#Derived from Scikit-Learn documentation. Referenced at end of document\n",
        "placementDataML['PlacementStatus'] = LabelEncoder().fit_transform(placementData['PlacementStatus'])\n",
        "placementDataML['ExtracurricularActivities'] = LabelEncoder().fit_transform(placementData['ExtracurricularActivities'])\n",
        "placementDataML['PlacementTraining'] = LabelEncoder().fit_transform(placementData['PlacementTraining'])\n",
        "\n",
        "\n",
        "# Define Features and Target of the dataset \n",
        "X = placementDataML.drop(columns=['PlacementStatus'])  # Features\n",
        "y = placementDataML['PlacementStatus']  # Target \n",
        "\n",
        "\n",
        "# Split the data into training (80%) and testing (20%) sets\n",
        "X_train, X_test, y_train, y_test = train_test_split(X, y, test_size=0.2, random_state=42)\n",
        "\n",
        "# Scale numerical features for better performance\n",
        "scaler = StandardScaler()\n",
        "X_train = scaler.fit_transform(X_train)\n",
        "X_test = scaler.transform(X_test)\n",
        "\n",
        "# Train a Logistic Regression Model\n",
        "model = LogisticRegression()\n",
        "model.fit(X_train, y_train)\n",
        "\n",
        "# Make predictions\n",
        "y_pred = model.predict(X_test)\n",
        "\n",
        "# Evaluate Model Performance\n",
        "accuracy = accuracy_score(y_test, y_pred)\n",
        "conf_matrix = confusion_matrix(y_test, y_pred)\n",
        "class_report = classification_report(y_test, y_pred)\n",
        "\n",
        "# Print Results\n",
        "print(f'Accuracy: {accuracy:.2f}')\n",
        "print('\\nClassification Report:')\n",
        "print(class_report)\n",
        "\n",
        "#Figure size\n",
        "plt.figure(figsize=(6, 4))\n",
        "\n",
        "# Plot Confusion Matrix\n",
        "sns.heatmap(conf_matrix, annot=True, fmt=\"d\", cmap=\"Blues\", xticklabels=['Not Placed', 'Placed'], yticklabels=['Not Placed', 'Placed'])\n",
        "\n",
        "#Lables and Titles\n",
        "plt.xlabel('Predicted')\n",
        "plt.ylabel('Actual')\n",
        "plt.title('Confusion Matrix')\n",
        "\n",
        "#display confusion matrix\n",
        "plt.show()\n",
        "\n",
        "# Convert the input sample to a NumPy array and reshape it correctly\n",
        "Pred_self = np.array([10001, 7.2, 3, 2, 0, 80, 4.5, 0, 1, 100, 100], dtype=float).reshape(1, -1)\n",
        "\n",
        "# Apply the same scaling as training data\n",
        "Pred_self_scaled = scaler.transform(Pred_self)\n",
        "\n",
        "# Make a prediction with new record\n",
        "y_pred = model.predict(Pred_self_scaled)\n",
        "\n",
        "# Output the prediction\n",
        "print(\"Predicted Placement Status:\", \"Placed\" if y_pred[0] == 1 else \"Not Placed\")\n",
        "\n"
      ]
    },
    {
      "cell_type": "markdown",
      "metadata": {},
      "source": [
        "#Insight #9: Based on the data above, the machine learning moodel has an acuaracy rating of ~0.8. After adding a new row of data which represents myself, the machine learning model predicts (with 80% acuracy) that I would be placed. \n",
        "\n",
        "10.  Do students who participate in extra curricular activities have more workshops/certifications completed?"
      ]
    },
    {
      "cell_type": "code",
      "execution_count": 48,
      "metadata": {},
      "outputs": [],
      "source": [
        "# Define Figure size\n",
        "plt.figure(figsize=(8, 6))\n",
        "\n",
        "#Generate boxplot \n",
        "sns.boxplot(x='ExtracurricularActivities', y='Workshops/Certifications', data = placementData)\n",
        "\n",
        "#Add lables\n",
        "plt.title('Workshops/Certifications by Extracurricular Activities', fontsize=16)\n",
        "plt.xlabel('Extracurricular Activities', fontsize=14)\n",
        "plt.ylabel('Workshops/Certifications', fontsize=14)\n",
        "\n",
        "#display plot\n",
        "plt.show()\n"
      ]
    },
    {
      "cell_type": "markdown",
      "metadata": {},
      "source": [
        "Insight #10: Based on the graph above, we can see that on average, students with extracurricular activities tend to have completed more workshops and certifications. "
      ]
    },
    {
      "cell_type": "markdown",
      "metadata": {},
      "source": [
        "# Conclusion\n",
        "\n",
        "In this report, we explored two different datasets, teaching us about the factors that effect heart failure and key activities that contribute to getting a co-op placement. \n",
        "\n",
        "We made insights using univariate and bivariate analysis including both categorical and numerical data.\n",
        "\n",
        "This assignment allowed us to refresh and improve upon our skills in Python libraries Matplotlib, seaborn and scikit-learn while also teaching us how to tell a story using data. \n",
        "\n",
        "# References\n",
        " - Lecture slide 'Winter2025-CSI4142-Week2-EDA-CaseStudy-Part1'\n",
        " - Lecture slide 'Winter2025-CSI4142-Week2-EDA-CaseStudy-Part2'\n",
        " - SciKit-Learn Documentation: 'https://scikit-learn.org/dev/user_guide.html'\n"
      ]
    }
  ],
  "metadata": {
    "colab": {
      "provenance": []
    },
    "kernelspec": {
      "display_name": "Python 3",
      "name": "python3"
    },
    "language_info": {
      "codemirror_mode": {
        "name": "ipython",
        "version": 3
      },
      "file_extension": ".py",
      "mimetype": "text/x-python",
      "name": "python",
      "nbconvert_exporter": "python",
      "pygments_lexer": "ipython3",
      "version": "3.13.1"
    }
  },
  "nbformat": 4,
  "nbformat_minor": 0
}
