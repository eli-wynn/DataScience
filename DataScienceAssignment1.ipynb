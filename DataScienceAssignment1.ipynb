{
  "cells": [
    {
      "cell_type": "markdown",
      "metadata": {
        "id": "M00I0saEkrfs"
      },
      "source": [
        "**CSI 4142 Data Science** <br/>\n",
        "*Assignment 1: Dataset Insights*\n",
        "\n",
        "# Identification\n",
        "\n",
        "Name: Eli Wynn<br/>\n",
        "Student Number: 300248135\n",
        "\n",
        "Name: Jack Snelgrove<br/>\n",
        "Student Number: 300247435\n",
        "\n",
        "\n",
        "Our datasets have been uploaded from the public repository:\n",
        "\n",
        "- [github.com/eli-wynn/Datasets](https://github.com/eli-wynn/Datasets)\n",
        "\n",
        "# Introduction\n",
        "\n",
        "The goal of this report is to perform data analysis on a heart attack database and student placement dataset. The audience would be the general public wanting to learn about factors that could lead to a heart attack and students/educators wanting to examine student results after graduation respectively.\n",
        "\n",
        "Imports:"
      ]
    },
    {
      "cell_type": "code",
      "execution_count": 22,
      "metadata": {
        "id": "LnC58VvrlUrS"
      },
      "outputs": [],
      "source": [
        "import numpy as np\n",
        "import matplotlib.pyplot as plt\n",
        "import pandas as pd\n",
        "import seaborn as sns"
      ]
    },
    {
      "cell_type": "markdown",
      "metadata": {
        "id": "ClkIXfDmmKm0"
      },
      "source": [
        "Importing Datasets"
      ]
    },
    {
      "cell_type": "code",
      "execution_count": 23,
      "metadata": {
        "colab": {
          "base_uri": "https://localhost:8080/"
        },
        "id": "kRAQ1A_DmtOt",
        "outputId": "f911c681-6b21-4235-c91a-8dc7a834ea60"
      },
      "outputs": [],
      "source": [
        "heart  = \"https://raw.githubusercontent.com/eli-wynn/Datasets/refs/heads/main/heart.csv\"\n",
        "placement = \"https://raw.githubusercontent.com/eli-wynn/Datasets/refs/heads/main/placementdata.csv\"\n",
        "heartData = pd.read_csv(heart)\n",
        "placementData = pd.read_csv(placement)"
      ]
    },
    {
      "cell_type": "markdown",
      "metadata": {},
      "source": [
        "# Dataset Descriptions\n",
        "## [Placement Data](https://www.kaggle.com/datasets/ruchikakumbhar/placement-prediction-dataset/data)\n",
        "Author: RK <br>\n",
        "Purpose: This dataset contains information about the students academic and training and placement status<br>\n",
        "Shape: Columns: 12, Rows: 10000<br>\n",
        "## [Heart Data](https://www.kaggle.com/datasets/fedesoriano/heart-failure-prediction)\n",
        "Author: fedesoriano <br>\n",
        "Purpose:<br>\n",
        "Shape: Columns: 12, Rows: 918<br>"
      ]
    },
    {
      "cell_type": "markdown",
      "metadata": {},
      "source": [
        "# Heart Failure Prediction Insights\n",
        "\n",
        "All the proof of the insights is present in the code and subsequent table directly below the insight\n",
        "\n",
        "1. The risk of heart problems increases dramatically after age 40 and drops off after 60. It is interesting that there is a drop off with age. Is that due to less older people being included in the data? or less older people surviving with a heart condition?"
      ]
    },
    {
      "cell_type": "code",
      "execution_count": null,
      "metadata": {},
      "outputs": [],
      "source": [
        "plt.hist(heartData['Age'], bins=10, color='skyblue', edgecolor='black')\n",
        "plt.title('Age Distribution')\n",
        "plt.xlabel('Ages')\n",
        "plt.ylabel('Frequency')\n",
        "plt.show()"
      ]
    },
    {
      "cell_type": "markdown",
      "metadata": {},
      "source": [
        "2. Approximately _% of individuals included have heart disease"
      ]
    },
    {
      "cell_type": "code",
      "execution_count": null,
      "metadata": {},
      "outputs": [],
      "source": [
        "#code for a countplot from case study in class\n",
        "sns.countplot(x=\"HeartDisease\", palette=\"pastel\", data=heartData)\n",
        "plt.title(\"Individuals With Heart Disease\")\n",
        "plt.xlabel('Heart Disease(0 = Healthy, 1 = Diseased)')\n",
        "plt.ylabel('Count')\n",
        "plt.show()"
      ]
    },
    {
      "cell_type": "markdown",
      "metadata": {},
      "source": [
        "## Placement Insight\n",
        "\n",
        "All insights are initiated with a question. Code is provided for a visualization that answers this question. The insight derived from these graphs are provided in the cell under the graph. \n",
        "\n",
        "1. How many student got Placed vs Not placed?"
      ]
    },
    {
      "cell_type": "code",
      "execution_count": null,
      "metadata": {},
      "outputs": [],
      "source": [
        "# Univariate: Categorical - r2\n",
        "\n",
        "#Creates a pandas Series that represnts the count of students who are Placed vs NotPlaced\n",
        "status_counts = placementData['PlacementStatus'].value_counts()\n",
        "\n",
        "#Define the figure size\n",
        "plt.figure(figsize=(8, 6))\n",
        "\n",
        "#Creates a bar chart with the status_counts Series\n",
        "status_counts.plot(kind='bar', color=['skyblue', 'salmon'], edgecolor='black')\n",
        "\n",
        "# Add labels and title\n",
        "plt.title('Count of PlacementStatus', fontsize=16)\n",
        "plt.xlabel('Placement Status', fontsize=14)\n",
        "plt.ylabel('Count', fontsize=14)\n",
        "\n",
        "# Add the exact count on top of each bar\n",
        "plt.text(1, status_counts['Placed'] + 1, f\"{status_counts['Placed']}\", ha='center', fontsize=12)\n",
        "plt.text(0, status_counts['NotPlaced'] + 1, f\"{status_counts['NotPlaced']}\", ha='center', fontsize=12)\n",
        "\n",
        "# Show gridlines\n",
        "plt.grid(axis='y', linestyle='--', alpha=0.7)\n",
        "\n",
        "# Display the plot\n",
        "plt.tight_layout()\n",
        "plt.show()\n"
      ]
    },
    {
      "cell_type": "markdown",
      "metadata": {},
      "source": [
        "Insight #1: Based on the chart above, ~58% of the students were placed in internships <br><br>\n",
        "1. Did the number of completed internships effect the number of students who got placed? "
      ]
    },
    {
      "cell_type": "code",
      "execution_count": null,
      "metadata": {},
      "outputs": [],
      "source": [
        "# Bivarite: Categorical / Numerical \n",
        "\n",
        "# Grouping data by PlacementStatus and Internships\n",
        "status_internship_counts = placementData.groupby(['PlacementStatus', 'Internships']).size().unstack(fill_value=0)\n",
        "\n",
        "# Plotting the grouped bar chart\n",
        "plt.figure(figsize=(10, 6))\n",
        "status_internship_counts.plot(kind='bar', width=0.7, edgecolor='black', colormap='coolwarm', figsize=(10, 6))\n",
        "\n",
        "# Adding labels and title\n",
        "plt.title('Placement Status by Number of Internships', fontsize=16)\n",
        "plt.xlabel('Placement Status', fontsize=14)\n",
        "plt.ylabel('Count', fontsize=14)\n",
        "plt.legend(title='Internships')\n",
        "\n",
        "# Show grid for better readability\n",
        "plt.grid(axis='y', linestyle='--', alpha=0.7)\n",
        "\n",
        "# Display the plot\n",
        "plt.tight_layout()\n",
        "plt.show()\n"
      ]
    },
    {
      "cell_type": "markdown",
      "metadata": {},
      "source": [
        "Insight #2: Based on the graph above, the majority of students who had 2 internships completed were able to get Placed. For Students who have only completed one or no internships had a higher chance of not placing than being placed. \n",
        "\n",
        "3. Did students who got placed have better CGPAs than those who didnt?\n"
      ]
    },
    {
      "cell_type": "code",
      "execution_count": null,
      "metadata": {},
      "outputs": [],
      "source": [
        "# Bivariate: Categorical / Numerical - r7\n",
        "\n",
        "# Define bins from minimum to maximum CGPA, at 0.5 intervals\n",
        "min_cgpa = min(placementData['CGPA'])\n",
        "max_cgpa = max(placementData['CGPA'])\n",
        "bins = np.arange(min_cgpa, max_cgpa + 0.5, 0.5)  # Step size of 0.5\n",
        "\n",
        "# Filter CGPA values based on PlacementStatus\n",
        "placed_cgpa = placementData[placementData['PlacementStatus'] == 'Placed']['CGPA']\n",
        "not_placed_cgpa = placementData[placementData['PlacementStatus'] == 'NotPlaced']['CGPA']\n",
        "\n",
        "# Create the plot\n",
        "plt.figure(figsize=(8, 6))\n",
        "\n",
        "plt.hist(not_placed_cgpa, bins=bins, color='red', alpha=0.4, label='Not Placed', edgecolor='black', rwidth=0.9)\n",
        "plt.hist(placed_cgpa, bins=bins, color='green', alpha=0.4, label='Placed', edgecolor='black', rwidth=0.9)\n",
        "\n",
        "\n",
        "\n",
        "# Labels and title\n",
        "plt.title('CGPA Distribution: Placed vs Not Placed', fontsize=16)\n",
        "plt.xlabel('CGPA', fontsize=14)\n",
        "plt.ylabel('Number of Students', fontsize=14)\n",
        "\n",
        "# Set x-axis ticks at every 0.5 interval\n",
        "plt.xticks(bins)\n",
        "\n",
        "# Show legend and grid\n",
        "plt.legend()\n",
        "plt.grid(axis='y', linestyle='--', alpha=0.7)\n",
        "\n",
        "# Show plot\n",
        "plt.show()\n"
      ]
    },
    {
      "cell_type": "markdown",
      "metadata": {},
      "source": [
        "Insight #3: It shows in the graph above that in the majority of cases students who got placed typically had higher CGPAs that those who did not. However, the graph also shows that some students who had a high CGPAs did not place and some students with low CGPAs were able to find placements. \n",
        "\n",
        "1. How are the student soft skills"
      ]
    },
    {
      "cell_type": "code",
      "execution_count": null,
      "metadata": {},
      "outputs": [],
      "source": [
        "# Univariate: Numerical - r1\n",
        "\n",
        "# Define figure size\n",
        "plt.figure(figsize=(8, 6))\n",
        "\n",
        "# Plot histogram for Soft Skills Rating \n",
        "plt.hist(placementData['SoftSkillsRating'], bins=10, color='purple', edgecolor='black', alpha=0.7)\n",
        "\n",
        "# Labels and title\n",
        "plt.title('Distribution of Soft Skills Ratings', fontsize=16)\n",
        "plt.xlabel('Soft Skills Rating', fontsize=14)\n",
        "plt.ylabel('Number of Students', fontsize=14)\n",
        "\n",
        "# Show grid for better readability\n",
        "plt.grid(axis='y', linestyle='--', alpha=0.7)\n",
        "\n",
        "# Show plot\n",
        "plt.tight_layout()\n",
        "plt.show()\n"
      ]
    },
    {
      "cell_type": "markdown",
      "metadata": {},
      "source": [
        "Insight #4: The graph above is left skewed showing us that most of the students have high soft skills rating. \n",
        "\n",
        "5. How well did students do on their Aptitude tests?"
      ]
    },
    {
      "cell_type": "code",
      "execution_count": null,
      "metadata": {},
      "outputs": [],
      "source": [
        "# Univariate: Grouped numerical  \n",
        "\n",
        "bins = [0, 25 , 50, 75, 100]  # Define bin edges\n",
        "labels = ['0-25', '21-50', '51-75', '76-100']  # Define labels for bins\n",
        "placementData['ScoreCategory'] = pd.cut(placementData['AptitudeTestScore'], bins=bins, labels=labels, include_lowest=True)\n",
        "\n",
        "# Count the number of students in each category\n",
        "score_counts = placementData['ScoreCategory'].value_counts().sort_index()\n",
        "\n",
        "# Define a gradient from red to green\n",
        "gradient_colors = ['#FF0000', '#FF5500', '#AAFF00', '#00FF55']  # Smooth transition from red to green\n",
        "\n",
        "# Define figure size\n",
        "plt.figure(figsize=(8, 6))\n",
        "\n",
        "# Create bar chart using Matplotlib with gradient colors\n",
        "plt.bar(score_counts.index, score_counts.values, color=gradient_colors, edgecolor='black')\n",
        "\n",
        "# Add labels and title\n",
        "plt.title('Grouped Aptitude Test Score Distribution', fontsize=16)\n",
        "plt.xlabel('Aptitude Test Score Category', fontsize=14)\n",
        "plt.ylabel('Number of Students', fontsize=14)\n",
        "\n",
        "\n",
        "# Show grid for better readability\n",
        "plt.grid(axis='y', linestyle='--', alpha=0.7)\n",
        "\n",
        "# Show plot\n",
        "plt.show()"
      ]
    },
    {
      "cell_type": "markdown",
      "metadata": {},
      "source": [
        "Insight #5: Based on the graph above, we can see that all students passed their Aptitude test with the majority of students scoring above a 75%. We grouped scores in increments of 25% so that we can see a more simplified overview of the grades. I chose these intervals so we could see whether students got >50% (passed). \n",
        "\n",
        "6. Does a student having placement training have an effect on a student getting placed?"
      ]
    },
    {
      "cell_type": "code",
      "execution_count": null,
      "metadata": {},
      "outputs": [
        {
          "data": {
            "image/png": "[encoded data removed]",
            "text/plain": [
              "<Figure size 800x600 with 1 Axes>"
            ]
          },
          "metadata": {},
          "output_type": "display_data"
        }
      ],
      "source": [
        "# Bivariate: Categorical / Categorical - r4\n",
        "\n",
        "# Count occurrences\n",
        "count_data = placementData.groupby(['PlacementTraining', 'PlacementStatus']).size().unstack()\n",
        "\n",
        "# Plot Stacked Bar Chart\n",
        "count_data.plot(kind='bar', stacked=True, color=['red', 'green'], figsize=(8, 6), edgecolor='black')\n",
        "\n",
        "# Labels and title\n",
        "plt.title('Effect of Training on Placement Status', fontsize=16)\n",
        "plt.xlabel('Placement Training', fontsize=14)\n",
        "plt.ylabel('Number of Students', fontsize=14)\n",
        "plt.legend(title='Placement Status')\n",
        "\n",
        "# Show plot\n",
        "plt.show()"
      ]
    },
    {
      "cell_type": "markdown",
      "metadata": {},
      "source": [
        "Insight #6: Based on the graph above, there are very few students who got placed without being trained. However, there is a significant amount of students that got trained but still did not get placed. \n",
        "\n",
        "7. "
      ]
    }
  ],
  "metadata": {
    "colab": {
      "provenance": []
    },
    "kernelspec": {
      "display_name": "Python 3",
      "name": "python3"
    },
    "language_info": {
      "codemirror_mode": {
        "name": "ipython",
        "version": 3
      },
      "file_extension": ".py",
      "mimetype": "text/x-python",
      "name": "python",
      "nbconvert_exporter": "python",
      "pygments_lexer": "ipython3",
      "version": "3.13.1"
    }
  },
  "nbformat": 4,
  "nbformat_minor": 0
}
