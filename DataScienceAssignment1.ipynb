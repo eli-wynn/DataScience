{
  "cells": [
    {
      "cell_type": "markdown",
      "metadata": {
        "id": "M00I0saEkrfs"
      },
      "source": [
        "**CSI 4142 Data Science** <br/>\n",
        "*Assignment 1: Dataset Insights*\n",
        "\n",
        "#Identification\n",
        "\n",
        "Name: Eli Wynn<br/>\n",
        "Student Number: 300248135\n",
        "\n",
        "Name: Jack Snelgrove<br/>\n",
        "Student Number: 300247435\n",
        "\n",
        "\n",
        "Our datasets have been uploaded from the public repository:\n",
        "\n",
        "- [github.com/eli-wynn/Datasets](https://github.com/eli-wynn/Datasets)\n",
        "\n",
        "#Introduction\n",
        "\n",
        "The goal of this report is to perform data analysis on a heart attack database and student placement dataset. The audience would be the general public wanting to learn about factors that could lead to a heart attack and students/educators wanting to examine student results after graduation respectively.\n",
        "\n",
        "Imports:"
      ]
    },
    {
      "cell_type": "code",
      "execution_count": 2,
      "metadata": {
        "id": "LnC58VvrlUrS"
      },
      "outputs": [],
      "source": [
        "import numpy as np\n",
        "import matplotlib.pyplot as plt\n",
        "import pandas as pd\n",
        "import seaborn as sns"
      ]
    },
    {
      "cell_type": "markdown",
      "metadata": {
        "id": "ClkIXfDmmKm0"
      },
      "source": [
        "Importing Datasets"
      ]
    },
    {
      "cell_type": "code",
      "execution_count": 3,
      "metadata": {
        "colab": {
          "base_uri": "https://localhost:8080/"
        },
        "id": "kRAQ1A_DmtOt",
        "outputId": "f911c681-6b21-4235-c91a-8dc7a834ea60"
      },
      "outputs": [],
      "source": [
        "heart  = \"https://raw.githubusercontent.com/eli-wynn/Datasets/refs/heads/main/placementdata.csv\"\n",
        "placement = \"https://raw.githubusercontent.com/eli-wynn/Datasets/refs/heads/main/placementdata.csv\"\n",
        "heartData = pd.read_csv(heart)\n",
        "placementData = pd.read_csv(placement)"
      ]
    },
    {
      "cell_type": "markdown",
      "metadata": {
        "id": "0ooS6nvapirH"
      },
      "source": [
        "#Dataset Descriptions\n",
        "##[Placement Data](https://www.kaggle.com/datasets/ruchikakumbhar/placement-prediction-dataset/data)\n",
        "Author: RK <br>\n",
        "Purpose: This dataset contains information about the students academic and training and placement status<br>\n",
        "Shape: Columns: 12, Rows: 10000<br>\n",
        "##[Heart Data](https://www.kaggle.com/datasets/fedesoriano/heart-failure-prediction)\n",
        "Author: fedesoriano <br>\n",
        "Purpose:<br>\n",
        "Shape: Columns: 12, Rows: 10000<br>"
      ]
    },
    {
      "cell_type": "markdown",
      "metadata": {},
      "source": [
        "Green fn\n"
      ]
    },
    {
      "cell_type": "markdown",
      "metadata": {},
      "source": [
        "SupEli"
      ]
    }
  ],
  "metadata": {
    "colab": {
      "provenance": []
    },
    "kernelspec": {
      "display_name": "Python 3",
      "name": "python3"
    },
    "language_info": {
      "codemirror_mode": {
        "name": "ipython",
        "version": 3
      },
      "file_extension": ".py",
      "mimetype": "text/x-python",
      "name": "python",
      "nbconvert_exporter": "python",
      "pygments_lexer": "ipython3",
      "version": "3.12.2"
    }
  },
  "nbformat": 4,
  "nbformat_minor": 0
}
